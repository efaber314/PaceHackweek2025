{
 "cells": [
  {
   "cell_type": "code",
   "execution_count": 46,
   "id": "b82e6c1b-4ab5-4cd8-a022-11451b14ebc8",
   "metadata": {},
   "outputs": [],
   "source": [
    "import cartopy.crs as ccrs\n",
    "import cartopy.feature as cfeature\n",
    "import earthaccess\n",
    "import xarray as xr\n",
    "import matplotlib.pyplot as plt\n",
    "import numpy as np\n",
    "import pandas as pd\n",
    "\n",
    "# veritable buffet for marine microbes"
   ]
  },
  {
   "cell_type": "code",
   "execution_count": 2,
   "id": "b1570368-cd94-444b-9ce0-b461ad1a44ed",
   "metadata": {},
   "outputs": [],
   "source": [
    "auth = earthaccess.login()"
   ]
  },
  {
   "cell_type": "code",
   "execution_count": 22,
   "id": "6863904d-0bbf-445d-8df7-e99bf7926d8b",
   "metadata": {},
   "outputs": [],
   "source": [
    "tspan = (\"2024-12-10\", \"2025-01-30\")\n",
    "bbox = (-131.9569, 29.4430, -120.8539, 37.9144) # west, south, east, north\n"
   ]
  },
  {
   "cell_type": "code",
   "execution_count": 34,
   "id": "ec6d6727-9b32-44de-8ba5-ffdbc0105467",
   "metadata": {},
   "outputs": [
    {
     "data": {
      "text/plain": [
       "133"
      ]
     },
     "execution_count": 34,
     "metadata": {},
     "output_type": "execute_result"
    }
   ],
   "source": [
    "results = earthaccess.search_data(\n",
    "    short_name=\"PACE_OCI_L2_BGC\",\n",
    "    temporal=tspan,\n",
    "    bounding_box=bbox\n",
    ")\n",
    "len(results)\n",
    "\n",
    "results_L3 = earthaccess.search_data(\n",
    "    short_name=\"PACE_OCI_L3B_CHL\",\n",
    "    temporal=tspan,\n",
    "    bounding_box=bbox\n",
    ")\n",
    "len(results_L3)\n"
   ]
  },
  {
   "cell_type": "code",
   "execution_count": 37,
   "id": "a7908dcd-8cfd-4a8d-b687-a4118b21687d",
   "metadata": {},
   "outputs": [
    {
     "data": {
      "application/vnd.jupyter.widget-view+json": {
       "model_id": "f525a7ddbff74fc19d9a1852ccafba5b",
       "version_major": 2,
       "version_minor": 0
      },
      "text/plain": [
       "QUEUEING TASKS | :   0%|          | 0/133 [00:00<?, ?it/s]"
      ]
     },
     "metadata": {},
     "output_type": "display_data"
    },
    {
     "data": {
      "application/vnd.jupyter.widget-view+json": {
       "model_id": "b309372dd07649d6880a0de9832c51a5",
       "version_major": 2,
       "version_minor": 0
      },
      "text/plain": [
       "PROCESSING TASKS | :   0%|          | 0/133 [00:00<?, ?it/s]"
      ]
     },
     "metadata": {},
     "output_type": "display_data"
    },
    {
     "data": {
      "application/vnd.jupyter.widget-view+json": {
       "model_id": "0361c690358244ef8684cfbee68a8a10",
       "version_major": 2,
       "version_minor": 0
      },
      "text/plain": [
       "COLLECTING RESULTS | :   0%|          | 0/133 [00:00<?, ?it/s]"
      ]
     },
     "metadata": {},
     "output_type": "display_data"
    },
    {
     "data": {
      "application/vnd.jupyter.widget-view+json": {
       "model_id": "8c96ee0491394cb1a367c4ca3c7dd3b8",
       "version_major": 2,
       "version_minor": 0
      },
      "text/plain": [
       "QUEUEING TASKS | :   0%|          | 0/60 [00:00<?, ?it/s]"
      ]
     },
     "metadata": {},
     "output_type": "display_data"
    },
    {
     "data": {
      "application/vnd.jupyter.widget-view+json": {
       "model_id": "fa1c40b23d83429e92937f84853ed400",
       "version_major": 2,
       "version_minor": 0
      },
      "text/plain": [
       "PROCESSING TASKS | :   0%|          | 0/60 [00:00<?, ?it/s]"
      ]
     },
     "metadata": {},
     "output_type": "display_data"
    },
    {
     "data": {
      "application/vnd.jupyter.widget-view+json": {
       "model_id": "8c0a5ecbb6aa404dba778cdbdf20ad31",
       "version_major": 2,
       "version_minor": 0
      },
      "text/plain": [
       "COLLECTING RESULTS | :   0%|          | 0/60 [00:00<?, ?it/s]"
      ]
     },
     "metadata": {},
     "output_type": "display_data"
    }
   ],
   "source": [
    "paths = earthaccess.open(results)\n",
    "paths_L3 = earthaccess.open(results_L3)"
   ]
  },
  {
   "cell_type": "code",
   "execution_count": 40,
   "id": "d27760b8-bed8-4b90-988b-e3b2b585349f",
   "metadata": {},
   "outputs": [],
   "source": [
    "# datatree = xr.open_datatree(paths_L3[0])\n",
    "# dataset = xr.merge(datatree.to_dict().values()).chlor_a\n"
   ]
  },
  {
   "cell_type": "code",
   "execution_count": 45,
   "id": "68ff3141-db99-4b2a-8810-116d687a48f4",
   "metadata": {},
   "outputs": [],
   "source": [
    "dataset = xr.open_mfdataset(paths_L3,\n",
    "    combine=\"nested\",\n",
    "    concat_dim=\"date\",\n",
    ")\n"
   ]
  },
  {
   "cell_type": "code",
   "execution_count": null,
   "id": "b88cc00d-de22-4f57-bae4-d319c717bdc3",
   "metadata": {},
   "outputs": [],
   "source": []
  }
 ],
 "metadata": {
  "kernelspec": {
   "display_name": "Python 3 (ipykernel)",
   "language": "python",
   "name": "python3"
  },
  "language_info": {
   "codemirror_mode": {
    "name": "ipython",
    "version": 3
   },
   "file_extension": ".py",
   "mimetype": "text/x-python",
   "name": "python",
   "nbconvert_exporter": "python",
   "pygments_lexer": "ipython3",
   "version": "3.11.11"
  }
 },
 "nbformat": 4,
 "nbformat_minor": 5
}
