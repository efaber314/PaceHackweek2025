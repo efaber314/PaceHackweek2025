{
 "cells": [
  {
   "cell_type": "code",
   "execution_count": null,
   "id": "351df731-a46d-4ad3-a2d5-68a39c7473fb",
   "metadata": {},
   "outputs": [
    {
     "name": "stdout",
     "output_type": "stream",
     "text": [
      "20241207T004616\n",
      "20241207T005116\n",
      "20241207T005616\n",
      "20241207T010116\n",
      "20241207T185220\n",
      "20241207T185720\n",
      "20241207T190220\n",
      "20241207T202537\n",
      "20241207T203037\n",
      "20241207T203537\n",
      "20250117T211622\n",
      "20250117T212122\n",
      "20250118T002800\n",
      "20250118T003300\n"
     ]
    }
   ],
   "source": [
    "from pathlib import Path\n",
    "\n",
    "import cartopy.crs as ccrs\n",
    "import earthaccess\n",
    "import matplotlib.pyplot as plt\n",
    "import numpy as np\n",
    "import requests, pdb\n",
    "import xarray as xr\n",
    "\n",
    "auth = earthaccess.login(persist=True)\n",
    "fs = earthaccess.get_fsspec_https_session()\n",
    "\n",
    "tspan = (\"2024-12-01\", \"2025-01-31\")\n",
    "#tspan = (\"2025-01-16\", \"2025-01-31\")\n",
    "\n",
    "#bbox = (-65.44, 8.03, -5.06, 38.75) # W, S, E, N\n",
    "#bbox = (-129.5, 27, -120, 29) # west, south, east, north\n",
    "bbox = (-140.5, 10, -100, 39)  # west, south, east, north\n",
    "bbox = (-180, 0, -100, 39)  # west, south, east, north\n",
    "\n",
    "clouds = (0, 100) #cloud cover 0-50%\n",
    "\n",
    "#===============================================\n",
    "#1. get lists of timestamps that sweeps thru our coordinates\n",
    "\n",
    "#2. make a for loop for all the timestamps and download oci aod (because oci aod is not offered in earthaccess, we cannot designate bbox)\n",
    "#===============================================\n",
    "\n",
    "#1.\n",
    "\n",
    "results = earthaccess.search_data(\n",
    "    short_name=\"PACE_OCI_L2_BGC\", #example var.\n",
    "    temporal=tspan,\n",
    "    bounding_box=bbox,\n",
    "    cloud_cover=clouds,\n",
    ")\n",
    "# (9 24 25)\n",
    "tstamps = [] #lists of timestamps\n",
    "for i in range(len(results)):\n",
    "    fname = results[i]['meta']['native-id']\n",
    "    rec = fname.strip().split('.')\n",
    "    tstamps.append(rec[1])\n",
    "    \n",
    "#2.\n",
    "OB_DAAC_PROVISIONAL = \"https://oceandata.sci.gsfc.nasa.gov/cgi/getfile/\"\n",
    "for tstamp in tstamps:\n",
    "    \n",
    "    HARP2_L2_MAPOL_FILENAME = \"PACE_OCI.{}.L2.AER_UAA.V3_0.NRT.nc\".format(tstamp)\n",
    "    try:\n",
    "        fs.get(f\"{OB_DAAC_PROVISIONAL}/{HARP2_L2_MAPOL_FILENAME}\", \"/data/FirePhytos_DustBlumes/PACE_OCI_AOD/Pacific/\")\n",
    "        print(tstamp)\n",
    "    except:\n",
    "        pass\n",
    "    # paths = list(Path(\"data\").glob(\"*.nc\"))\n",
    "    # for path in paths:\n",
    "    #     reader = [\n",
    "    # pdb.set_trace()"
   ]
  },
  {
   "cell_type": "code",
   "execution_count": 13,
   "id": "b88e681a-44a1-49a1-b3e6-9408192332b2",
   "metadata": {},
   "outputs": [
    {
     "name": "stdout",
     "output_type": "stream",
     "text": [
      "8\n"
     ]
    },
    {
     "name": "stderr",
     "output_type": "stream",
     "text": [
      "/tmp/ipykernel_110/1800623467.py:47: UserWarning: This figure includes Axes that are not compatible with tight_layout, so results might be incorrect.\n",
      "  plt.tight_layout()\n",
      "/tmp/ipykernel_110/1800623467.py:47: UserWarning: This figure includes Axes that are not compatible with tight_layout, so results might be incorrect.\n",
      "  plt.tight_layout()\n"
     ]
    },
    {
     "data": {
      "text/plain": [
       "<Figure size 1200x400 with 0 Axes>"
      ]
     },
     "metadata": {},
     "output_type": "display_data"
    },
    {
     "data": {
      "text/plain": [
       "<Figure size 1200x400 with 0 Axes>"
      ]
     },
     "metadata": {},
     "output_type": "display_data"
    }
   ],
   "source": [
    "from pathlib import Path\n",
    "\n",
    "import cartopy.crs as ccrs\n",
    "import earthaccess\n",
    "import matplotlib.pyplot as plt\n",
    "import numpy as np\n",
    "import requests\n",
    "import xarray as xr\n",
    "from glob import glob\n",
    "from datetime import datetime\n",
    "import pdb\n",
    "\n",
    "def plot_l2_product(\n",
    "    lon, lat, data, plot_range, label, title, vmin, vmax,fn, figsize=(12, 4), cmap=\"jet\"):\n",
    "    \"\"\"Make map and histogram (default).\"\"\"\n",
    "\n",
    "    # Create a figure with two subplots: 1 for map, 1 for histogram\n",
    "    fig = plt.figure(figsize=figsize)\n",
    "    gs = fig.add_gridspec(1, 2, width_ratios=[3, 1], wspace=0.3)\n",
    "\n",
    "    # Map subplot\n",
    "    ax_map = fig.add_subplot(gs[0], projection=ccrs.PlateCarree())\n",
    "    ax_map.set_extent(plot_range, crs=ccrs.PlateCarree())\n",
    "    ax_map.coastlines(resolution=\"110m\", color=\"black\", linewidth=0.8)\n",
    "    ax_map.gridlines(draw_labels=True)\n",
    "    ax_map.set_title(title, fontsize=12)\n",
    "\n",
    "    # Assume lon and lat are defined globally or passed in\n",
    "    for i in range(len(data)):\n",
    "        pm = ax_map.pcolormesh(\n",
    "            lon[i], lat[i], data[i], vmin=vmin, vmax=vmax, transform=ccrs.PlateCarree(), cmap=cmap\n",
    "        )\n",
    "    plt.colorbar(pm, ax=ax_map, orientation=\"vertical\", pad=0.1, label=label)\n",
    "\n",
    "\n",
    "    # Histogram subplot\n",
    "    # ax_hist = fig.add_subplot(gs[1])\n",
    "    # flattened_data = data[~np.isnan(data)]  # Remove NaNs for histogram\n",
    "    # valid_count = np.sum(~np.isnan(flattened_data))\n",
    "    # ax_hist.hist(\n",
    "    #     flattened_data, bins=40, color=\"gray\", range=[vmin, vmax], edgecolor=\"black\"\n",
    "    # )\n",
    "    # ax_hist.set_xlabel(label)\n",
    "    # ax_hist.set_ylabel(\"Count\")\n",
    "    # ax_hist.set_title(\"Histogram: N=\" + str(valid_count))\n",
    "\n",
    "    plt.tight_layout()\n",
    "    plt.savefig(fn)\n",
    "    plt.clf()\n",
    "\n",
    "target_date = datetime(2025,1,5)\n",
    "oci_dir = '/home/jovyan/shared-public/FirePhytos_DustBlumes/PACE_OCI_AOD/'\n",
    "files = sorted(glob(oci_dir + target_date.strftime('*%Y%m%dT*')))\n",
    "print(len(files))\n",
    "# pdb.set_trace()\n",
    "\n",
    "aods = []\n",
    "ssas = []\n",
    "lons = []\n",
    "lats = []\n",
    "\n",
    "for file in files:\n",
    "\n",
    "    datatree = xr.open_datatree(file)\n",
    "    dataset = xr.merge(datatree.to_dict().values())\n",
    "    lon = np.array(dataset['longitude'])\n",
    "    lat = np.array(dataset['latitude'])\n",
    "    aod = np.squeeze(np.array(dataset['Aerosol_Optical_Depth'][:,:,3]))\n",
    "    # fmf = np.squeeze(np.array(dataset['Aerosol_Optical_Depth'][:,:,3]))\n",
    "    ssa_388_dt = np.squeeze(np.array(dataset['DT_AerosolSingleScattAlbedo'][:,:,1]))\n",
    "    ssa_388_nuv = np.squeeze(np.array(dataset['NUV_AerosolSingleScattAlbedo'][:,:,1]))\n",
    "\n",
    "    lons.append(lon)\n",
    "    lats.append(lat)\n",
    "    aods.append(aod)\n",
    "    ssas.append(ssa_388_nuv)\n",
    "    \n",
    "    \n",
    "plot_range = [np.nanmin(lons), np.nanmax(lons), np.nanmin(lats), np.nanmax(lats)]\n",
    "    \n",
    "plot_l2_product(lons, lats,\n",
    "aods, plot_range=plot_range, label='', title=target_date.strftime('AOD_%Y%m%d'), vmin=0, vmax=2, \n",
    "                fn=target_date.strftime('PACE_OCI_AOD_%Y%m%d.png'), cmap=\"jet\")\n",
    "\n",
    "# plot_l2_product(lon, lat,\n",
    "# ssa_388_dt, plot_range=plot_range, label='', title='DT_SSA', vmin=0.7, vmax=1, \n",
    "#                 fn=target_date.strftime('PACE_OCI_DTSSA_%Y%m%d.png'), cmap=\"jet\")\n",
    "\n",
    "plot_l2_product(lons, lats,\n",
    "ssas, plot_range=plot_range, label='', title='NUV_SSA', vmin=0.7, vmax=1, \n",
    "                fn=target_date.strftime('PACE_OCI_NUVSSA_%Y%m%d.png'), cmap=\"jet\")\n",
    "    "
   ]
  },
  {
   "cell_type": "code",
   "execution_count": null,
   "id": "61ece24e-3971-4c8b-afa1-a9095228b633",
   "metadata": {},
   "outputs": [],
   "source": []
  }
 ],
 "metadata": {
  "kernelspec": {
   "display_name": "Python 3 (ipykernel)",
   "language": "python",
   "name": "python3"
  },
  "language_info": {
   "codemirror_mode": {
    "name": "ipython",
    "version": 3
   },
   "file_extension": ".py",
   "mimetype": "text/x-python",
   "name": "python",
   "nbconvert_exporter": "python",
   "pygments_lexer": "ipython3",
   "version": "3.11.11"
  }
 },
 "nbformat": 4,
 "nbformat_minor": 5
}
