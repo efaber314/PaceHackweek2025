{
 "cells": [
  {
   "cell_type": "code",
   "execution_count": null,
   "id": "d33a071e",
   "metadata": {},
   "outputs": [],
   "source": [
    "#Emily Faber - Aug 3 2025"
   ]
  },
  {
   "cell_type": "markdown",
   "id": "9674dfb7",
   "metadata": {},
   "source": []
  }
 ],
 "metadata": {
  "language_info": {
   "name": "python"
  }
 },
 "nbformat": 4,
 "nbformat_minor": 5
}
