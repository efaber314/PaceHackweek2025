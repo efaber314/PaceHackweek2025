{
 "cells": [
  {
   "cell_type": "code",
   "execution_count": 1,
   "id": "e15470e2-3c21-41be-9255-05eb4e18b1e0",
   "metadata": {},
   "outputs": [],
   "source": [
    "#mask Maker"
   ]
  },
  {
   "cell_type": "code",
   "execution_count": 9,
   "id": "0191b5fc-3e17-4226-aa8f-e1abec9a4cbc",
   "metadata": {},
   "outputs": [],
   "source": [
    "from pathlib import Path\n",
    "\n",
    "import cartopy.crs as ccrs\n",
    "import earthaccess\n",
    "import matplotlib.pyplot as plt\n",
    "import numpy as np\n",
    "import requests\n",
    "import xarray as xr\n",
    "from glob import glob\n",
    "from datetime import datetime\n",
    "import pdb\n",
    "from datetime import datetime, timedelta\n",
    "import matplotlib.animation as animation \n"
   ]
  },
  {
   "cell_type": "code",
   "execution_count": 3,
   "id": "4db42e84-5221-4869-bff9-1f295581e894",
   "metadata": {},
   "outputs": [
    {
     "name": "stdout",
     "output_type": "stream",
     "text": [
      "Collecting global-land-mask\n",
      "  Using cached global_land_mask-1.0.0-py3-none-any.whl.metadata (5.2 kB)\n",
      "Using cached global_land_mask-1.0.0-py3-none-any.whl (1.8 MB)\n",
      "Installing collected packages: global-land-mask\n",
      "Successfully installed global-land-mask-1.0.0\n",
      "Note: you may need to restart the kernel to use updated packages.\n"
     ]
    }
   ],
   "source": [
    "pip install global-land-mask\n"
   ]
  },
  {
   "cell_type": "code",
   "execution_count": 4,
   "id": "882a65cd-765e-4456-bc54-e0e1087f8072",
   "metadata": {},
   "outputs": [],
   "source": [
    "from global_land_mask import globe"
   ]
  },
  {
   "cell_type": "code",
   "execution_count": 15,
   "id": "1203de31-d06e-4ecc-b68c-70cf5a63ccb5",
   "metadata": {},
   "outputs": [],
   "source": [
    "def maskMaker():\n",
    "    oci_dir = '/home/jovyan/shared-public/DustBlumes/PACE_OCI_AOD/'\n",
    "\n",
    "    #date range \n",
    "    target_date_range = np.arange(datetime(2024,9,24), datetime(2024,10,10), timedelta(days=1)).astype(datetime)\n",
    "\n",
    "    #save these for later\n",
    "    daily_AOD_avg = []\n",
    "    daily_AOD_anom_avg = []\n",
    "    daily_plume_mask = []\n",
    "    \n",
    "    for day in target_date_range:\n",
    "        files = sorted(glob(oci_dir + day.strftime('*%Y%m%dT*'))) \n",
    "        aods = []\n",
    "        ssas = []\n",
    "        lons = []\n",
    "        lats = []\n",
    "    \n",
    "        for file in files:\n",
    "            datatree = xr.open_datatree(file)\n",
    "            dataset = xr.merge(datatree.to_dict().values())\n",
    "\n",
    "            #single granule\n",
    "            lon = np.array(dataset['longitude'])\n",
    "            lat = np.array(dataset['latitude'])\n",
    "            aod = np.squeeze(np.array(dataset['Aerosol_Optical_Depth'][:,:,3]))\n",
    "\n",
    "            #whole picture\n",
    "            lons.append(lon)\n",
    "            lats.append(lat)\n",
    "            aods.append(aod)\n",
    "\n",
    "            #extract pixels that are over water and above 0.3 AOD\n",
    "            over_water_AOD = np.where(globe.is_land(lats,lons) == False, aods, np.nan)\n",
    "            highs_over_water = np.where(over_water_AOD > 0.3, over_water_AOD, np.nan)\n",
    "\n",
    "            #1 where there is high AOD over water, 0 where not\n",
    "            plume_mask = np.where(highs_over_water > 0, 1, 0)\n",
    "           \n",
    "        #keep track for the whole time period    \n",
    "        daily_AOD_avg.append(np.nanmean(over_water_AOD)) #daily average AOD whole picture\n",
    "        daily_AOD_anom_avg.append(np.nanmean(highs_over_water)) #daily average AOD high (>0.3) over water\n",
    "        daily_plume_mask.append(plume_mask) #1/0 plume presence \n",
    "\n",
    "    #should be length of days in your time range\n",
    "    print(len(daily_AOD_avg))\n",
    "    print(len(daily_plume_mask))\n",
    "    \n",
    "    #return the 1/0 mask and the lons, lats\n",
    "    return [daily_plume_mask, lons, lats]"
   ]
  },
  {
   "cell_type": "code",
   "execution_count": 16,
   "id": "dfa7e86c-5945-4bf5-b1ed-622cd8614c4a",
   "metadata": {},
   "outputs": [
    {
     "name": "stdout",
     "output_type": "stream",
     "text": [
      "16\n",
      "16\n"
     ]
    }
   ],
   "source": [
    "mask, lons, lats = maskMaker() #example"
   ]
  },
  {
   "cell_type": "code",
   "execution_count": 34,
   "id": "edf9e5c1-db9a-4750-b2dc-f3a857253e48",
   "metadata": {},
   "outputs": [
    {
     "name": "stdout",
     "output_type": "stream",
     "text": [
      "[[-22.710205  -22.236582  -21.795462  ...   4.3916693   4.85399\n",
      "    5.350311 ]\n",
      " [-22.74297   -22.268991  -21.827547  ...   4.383163    4.8459377\n",
      "    5.342744 ]\n",
      " [-22.774643  -22.300385  -21.858671  ...   4.3761396   4.839471\n",
      "    5.3368773]\n",
      " ...\n",
      " [-33.150726  -32.56982   -32.02688   ...   3.180521    3.8374875\n",
      "    4.5431943]\n",
      " [-33.20845   -32.627033  -32.083603  ...   3.1799238   3.8381927\n",
      "    4.5453024]\n",
      " [-33.267567  -32.685562  -32.14158   ...   3.1786377   3.8381662\n",
      "    4.546623 ]]\n"
     ]
    }
   ],
   "source": [
    "print(lons[2])"
   ]
  },
  {
   "cell_type": "code",
   "execution_count": 73,
   "id": "eeff2f40-c289-4c03-8a9b-362f55713646",
   "metadata": {},
   "outputs": [],
   "source": [
    "#EXAMPLE\n",
    "\n",
    "\n",
    "def plot_l2_product(\n",
    "    lon, lat, data, plot_range, label, title, vmin, vmax, figsize=(12, 4), cmap=\"jet\"):\n",
    "    \"\"\"Make map and histogram (default).\"\"\"\n",
    "\n",
    "    # Create a figure with two subplots: 1 for map, 1 for histogram\n",
    "    fig = plt.figure(figsize=figsize)\n",
    "    gs = fig.add_gridspec(1, 2, width_ratios=[3, 1], wspace=0.3)\n",
    "\n",
    "    # Map subplot\n",
    "    ax_map = fig.add_subplot(gs[0], projection=ccrs.PlateCarree())\n",
    "    ax_map.set_extent(plot_range, crs=ccrs.PlateCarree())\n",
    "    ax_map.coastlines(resolution=\"110m\", color=\"black\", linewidth=0.8)\n",
    "    ax_map.gridlines(draw_labels=True)\n",
    "    ax_map.set_title(title, fontsize=12)\n",
    "\n",
    "    # Assume lon and lat are defined globally or passed in\n",
    "    for i in range(len(data)):\n",
    "        pm = ax_map.pcolormesh(\n",
    "            lon[i], lat[i], data[i], vmin=vmin, vmax=vmax, transform=ccrs.PlateCarree(), cmap=cmap\n",
    "        )\n",
    "    plt.colorbar(pm, ax=ax_map, orientation=\"vertical\", pad=0.1, label=label)\n",
    "    plt.show()\n",
    "    plt.clf()\n"
   ]
  },
  {
   "cell_type": "code",
   "execution_count": 74,
   "id": "12c97d88-e040-46ce-8923-00df7309fef7",
   "metadata": {},
   "outputs": [
    {
     "data": {
      "text/plain": [
       "<Figure size 1200x400 with 0 Axes>"
      ]
     },
     "metadata": {},
     "output_type": "display_data"
    }
   ],
   "source": [
    "plot_range = [np.nanmin(lons), np.nanmax(lons), np.nanmin(lats), np.nanmax(lats)]\n",
    "plot_l2_product(lons, lats, mask[15], plot_range=plot_range, label='', title='', vmin=0, vmax=1, cmap=\"jet\")\n"
   ]
  },
  {
   "cell_type": "code",
   "execution_count": null,
   "id": "aee81938-bd05-4c95-8f68-89bf1e5b526d",
   "metadata": {},
   "outputs": [],
   "source": [
    "# #Animation\n",
    "# ims = []\n",
    "# fig = plt.figure()\n",
    "\n",
    "# for day in range(0,16):\n",
    "    \n",
    "#     im = plot_l2_product(np.array(lons[day]), np.array(lats[day]), mask[day], plot_range=plot_range, label='Plume Mask', title='mask, day ' + str(day), vmin=0, vmax=1, cmap=\"jet\")\n",
    "#     ims.append([im])\n",
    "\n",
    "# ani = animation.ArtistAnimation(fig, ims, interval=50, blit=True,\n",
    "#                                 repeat_delay=500)\n",
    "\n",
    "# writer = PillowWriter(fps=20)\n",
    "# ani.save(\"MaskAnimation.gif\", writer=writer)\n",
    "\n"
   ]
  },
  {
   "cell_type": "code",
   "execution_count": null,
   "id": "a7b669b3-5e9f-48f4-8960-032d7778c24f",
   "metadata": {},
   "outputs": [],
   "source": []
  }
 ],
 "metadata": {
  "kernelspec": {
   "display_name": "Python 3 (ipykernel)",
   "language": "python",
   "name": "python3"
  },
  "language_info": {
   "codemirror_mode": {
    "name": "ipython",
    "version": 3
   },
   "file_extension": ".py",
   "mimetype": "text/x-python",
   "name": "python",
   "nbconvert_exporter": "python",
   "pygments_lexer": "ipython3",
   "version": "3.11.11"
  }
 },
 "nbformat": 4,
 "nbformat_minor": 5
}
