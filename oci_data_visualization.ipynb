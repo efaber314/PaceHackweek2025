{
 "cells": [
  {
   "cell_type": "markdown",
   "id": "1ec62126",
   "metadata": {},
   "source": [
    "# PACE data visualization\n",
    "**Author:** Carina Poulin (NASA, SSAI). Prepared for the PACE Hackweek 2025.\n",
    "\n",
    "<div class=\"alert alert-info\" role=\"alert\">\n",
    "\n",
    "An [Earthdata Login][edl] account is required to access data from the NASA Earthdata system, including NASA ocean color data.\n",
    "\n",
    "</div>\n",
    "\n",
    "<div class=\"alert alert-warning\" role=\"alert\">\n",
    "\n",
    "You need up to 4GB of memory to run this notebook\n",
    "\n",
    "</div>\n",
    "\n",
    "[edl]: https://urs.earthdata.nasa.gov/\n",
    "\n",
    "## Summary\n",
    "\n",
    "This is an introduction to the visualization possibilities arising from PACE data, meant to give you ideas and tools to develop your own scientific data visualizations.\n",
    "\n",
    "## Learning Objectives\n",
    "\n",
    "At the end of this notebook you will know:\n",
    "\n",
    "- How to create a quick global map from OCI data\n",
    "- How to clean up your OCI dataset for visualizing\n",
    "- How to create a quick plot for a \"transect\"\n",
    "- How to interpolate the data\n",
    "- How to create an multi-variable RGB map with two datasets\n",
    "- Plot a timeline of the plankton types for a region of interest\n",
    "\n",
    "## Contents\n",
    "\n",
    "1. [Setup](#1.-Setup)\n",
    "2. [Search for Data](#2.-Search-for-Data)\n",
    "3. [Make a quick map with Xarray](#3.-Make-a-quick-map-with-Xarray)\n",
    "4. [Clean up the dataset](#4.-Clean-up-the-dataset)\n",
    "5. [Plot data from a transect](#5.-Plot-data-from-a-transect)\n",
    "6. [Interpolate the data](#6.-Interpolate-the-data)\n",
    "7. [Make a multi-variable RBG map with two datasets](#7.-Make-a-multi-variable-RBG-map-with-two-datasets)\n",
    "8. [Plot a timeline of the plankton types for a region of interest](#8.-Plot-a-timeline-of-the-plankton-types-for-a-region-of-interest)"
   ]
  },
  {
   "cell_type": "markdown",
   "id": "440870d4",
   "metadata": {},
   "source": [
    "## 1. Setup\n",
    "\n",
    "Begin by importing all of the packages used in this notebook. If your kernel uses an environment defined following the guidance on the [tutorials] page, then the imports will be successful.\n",
    "\n",
    "[tutorials]: https://oceancolor.gsfc.nasa.gov/resources/docs/tutorials"
   ]
  },
  {
   "cell_type": "code",
   "execution_count": null,
   "id": "bc83d524",
   "metadata": {},
   "outputs": [],
   "source": [
    "import cartopy.crs as ccrs\n",
    "import cartopy.feature as cfeature\n",
    "import earthaccess\n",
    "import h5netcdf\n",
    "import matplotlib.pyplot as plt\n",
    "import numpy as np\n",
    "import pandas as pd\n",
    "import pyinterp.backends.xarray  # Module that handles the filling of undefined values.\n",
    "import pyinterp.fill\n",
    "import seaborn as sns\n",
    "import xarray as xr\n",
    "from matplotlib.patches import Rectangle"
   ]
  },
  {
   "cell_type": "markdown",
   "id": "041d5271",
   "metadata": {},
   "source": [
    "Set (and persist to your user profile on the host, if needed) your Earthdata Login credentials."
   ]
  },
  {
   "cell_type": "code",
   "execution_count": null,
   "id": "52c7dcfe",
   "metadata": {},
   "outputs": [],
   "source": [
    "auth = earthaccess.login()"
   ]
  },
  {
   "cell_type": "markdown",
   "id": "5285a12d",
   "metadata": {},
   "source": [
    "[back to top](#Contents)"
   ]
  },
  {
   "cell_type": "markdown",
   "id": "17d81db0",
   "metadata": {},
   "source": [
    "## 2. Search for Data"
   ]
  },
  {
   "cell_type": "markdown",
   "id": "15421711",
   "metadata": {},
   "source": [
    "For this example. we will be looking at a the month of July 2024."
   ]
  },
  {
   "cell_type": "code",
   "execution_count": null,
   "id": "b77c6f82",
   "metadata": {},
   "outputs": [],
   "source": [
    "tspan = (\"2024-07-01\", \"2024-07-30\")"
   ]
  },
  {
   "cell_type": "markdown",
   "id": "9815e6a0",
   "metadata": {},
   "source": [
    "We look for two different types of products. The Multiple Ordination ANAlysis, or [MOANA][moana_atbd], is a new hyperspectral algorithm that measures the abundance of three different types of phytoplankton in the Atlantic Ocean. Only daily MOANA products are availabla from `earthaccess` for the moment.\n",
    "\n",
    "[moana_atbd]:https://www.earthdata.nasa.gov/apt/documents/moana/v1.0"
   ]
  },
  {
   "cell_type": "code",
   "execution_count": null,
   "id": "85a74199",
   "metadata": {},
   "outputs": [],
   "source": [
    "results_moana = earthaccess.search_data(\n",
    "    short_name=\"PACE_OCI_L3M_MOANA\",\n",
    "    granule_name=\"*.DAY.*0p1deg*\",  # Daily only for MOANA | Resolution: 0p1deg or 4 (for 4km)\n",
    "    temporal=tspan,\n",
    ")"
   ]
  },
  {
   "cell_type": "markdown",
   "id": "dc8febaf",
   "metadata": {},
   "source": [
    "The second type of product we look for here is one of the new land products. This one, the OCI vegetation indices, or [LANDVI][landvi_atbd], indicates the presence of different plant pigments. We are interested in monthly data for this example. \n",
    "\n",
    "[landvi_atbd]: https://www.earthdata.nasa.gov/apt/documents/landvi/v1.0"
   ]
  },
  {
   "cell_type": "code",
   "execution_count": null,
   "id": "542807e3",
   "metadata": {},
   "outputs": [],
   "source": [
    "results_land = earthaccess.search_data(\n",
    "    short_name=\"PACE_OCI_L3M_LANDVI\",\n",
    "    temporal=tspan,\n",
    "    granule_name=\"*.MO.*0p1deg*\",  # Daily, 8-day or monthly: Day, 8D or MO | Resolution: 0p1deg or 0.4km\n",
    ")"
   ]
  },
  {
   "cell_type": "markdown",
   "id": "a5d35d06",
   "metadata": {},
   "source": [
    "Here we will open the datasets."
   ]
  },
  {
   "cell_type": "code",
   "execution_count": null,
   "id": "f786dacf",
   "metadata": {},
   "outputs": [],
   "source": [
    "path_moana = earthaccess.open(results_moana)"
   ]
  },
  {
   "cell_type": "markdown",
   "id": "df788d93",
   "metadata": {},
   "source": [
    "Since we are combining multiple files, we are using the `open_mfdataset` function and indicating that we want to concatenate the data by date."
   ]
  },
  {
   "cell_type": "code",
   "execution_count": null,
   "id": "14551a66",
   "metadata": {},
   "outputs": [],
   "source": [
    "dataset_moana = xr.open_mfdataset(path_moana, combine=\"nested\", concat_dim=\"date\")\n",
    "dataset_moana"
   ]
  },
  {
   "cell_type": "code",
   "execution_count": null,
   "id": "2abd643a",
   "metadata": {},
   "outputs": [],
   "source": [
    "path_land = earthaccess.open(results_land)"
   ]
  },
  {
   "cell_type": "code",
   "execution_count": null,
   "id": "f07922b7",
   "metadata": {},
   "outputs": [],
   "source": [
    "dataset_land = xr.open_mfdataset(\n",
    "    path_land,\n",
    "    combine=\"nested\",\n",
    "    concat_dim=\"date\",\n",
    ")\n",
    "dataset_land"
   ]
  },
  {
   "cell_type": "markdown",
   "id": "8b344356",
   "metadata": {},
   "source": [
    "[back to top](#Contents)"
   ]
  },
  {
   "cell_type": "markdown",
   "id": "8df47824",
   "metadata": {},
   "source": [
    "## 3. Make a quick map with Xarray"
   ]
  },
  {
   "cell_type": "markdown",
   "id": "ae3073a4",
   "metadata": {},
   "source": [
    "Lets make a very quick map using `xr.plot`. All we need is to indicate the variable we want to plot and because our dataset contains multiple date, we indicate the index of one date in brackets with `[0]`."
   ]
  },
  {
   "cell_type": "code",
   "execution_count": null,
   "id": "ad024d34",
   "metadata": {},
   "outputs": [],
   "source": [
    "plot = dataset_moana[\"prococcus_moana\"][0].plot.imshow()"
   ]
  },
  {
   "cell_type": "markdown",
   "id": "5446b608",
   "metadata": {},
   "source": [
    "Notice that we do not see much. In this case, the dataset contains outliers. If we just want to make a quick plot, we can remove outliers with `robust=true`."
   ]
  },
  {
   "cell_type": "code",
   "execution_count": null,
   "id": "3e1720a7",
   "metadata": {},
   "outputs": [],
   "source": [
    "plot = dataset_moana[\"prococcus_moana\"][0].plot.imshow(robust=\"true\")"
   ]
  },
  {
   "cell_type": "markdown",
   "id": "cf4107b9",
   "metadata": {},
   "source": [
    "We can do another quick plot for the land vegetation indices dataset. Notice the map is much more complete, which is expected in monthly compared to daily products."
   ]
  },
  {
   "cell_type": "code",
   "execution_count": null,
   "id": "2741a753",
   "metadata": {},
   "outputs": [],
   "source": [
    "plot = dataset_land[\"cire\"][0].plot.imshow()"
   ]
  },
  {
   "cell_type": "markdown",
   "id": "aa0b8026",
   "metadata": {},
   "source": [
    "[back to top](#Contents)"
   ]
  },
  {
   "cell_type": "markdown",
   "id": "eb542bbd",
   "metadata": {},
   "source": [
    "## 4. Clean up the dataset"
   ]
  },
  {
   "cell_type": "markdown",
   "id": "23c25c7d",
   "metadata": {},
   "source": [
    "Because we want to do statistics on the data and not only draw a quick plot, we are going to clean up the dataset. Thankfully, the dataset comes with atttributes that indicate `valid_max` and `valid_min` values to guide us."
   ]
  },
  {
   "cell_type": "code",
   "execution_count": null,
   "id": "e30c221b",
   "metadata": {},
   "outputs": [],
   "source": [
    "dataset_moana"
   ]
  },
  {
   "cell_type": "code",
   "execution_count": null,
   "id": "b0413767",
   "metadata": {},
   "outputs": [],
   "source": [
    "dataset_moana[\"prococcus_moana\"] = dataset_moana[\"prococcus_moana\"].clip(\n",
    "    min=dataset_moana[\"prococcus_moana\"].attrs[\"valid_min\"],\n",
    "    max=dataset_moana[\"prococcus_moana\"].attrs[\"valid_max\"],\n",
    ")\n",
    "dataset_moana[\"syncoccus_moana\"] = dataset_moana[\"syncoccus_moana\"].clip(\n",
    "    min=dataset_moana[\"syncoccus_moana\"].attrs[\"valid_min\"],\n",
    "    max=dataset_moana[\"syncoccus_moana\"].attrs[\"valid_max\"],\n",
    ")\n",
    "dataset_moana[\"picoeuk_moana\"] = dataset_moana[\"picoeuk_moana\"].clip(\n",
    "    min=dataset_moana[\"picoeuk_moana\"].attrs[\"valid_min\"],\n",
    "    max=dataset_moana[\"picoeuk_moana\"].attrs[\"valid_max\"],\n",
    ")"
   ]
  },
  {
   "cell_type": "code",
   "execution_count": null,
   "id": "434e636a",
   "metadata": {},
   "outputs": [],
   "source": [
    "dataset_land[\"cire\"] = dataset_land[\"cire\"].clip(\n",
    "    min=dataset_land[\"cire\"].attrs[\"valid_min\"],\n",
    "    max=dataset_land[\"cire\"].attrs[\"valid_max\"],\n",
    ")\n",
    "dataset_land[\"car\"] = dataset_land[\"car\"].clip(\n",
    "    min=dataset_land[\"car\"].attrs[\"valid_min\"],\n",
    "    max=dataset_land[\"car\"].attrs[\"valid_max\"],\n",
    ")\n",
    "dataset_land[\"mari\"] = dataset_land[\"mari\"].clip(\n",
    "    min=dataset_land[\"mari\"].attrs[\"valid_min\"],\n",
    "    max=dataset_land[\"mari\"].attrs[\"valid_max\"],\n",
    ")"
   ]
  },
  {
   "cell_type": "markdown",
   "id": "1c072028",
   "metadata": {},
   "source": [
    "We will also remove the variables we will not be using for this example with `drop_vars`."
   ]
  },
  {
   "cell_type": "code",
   "execution_count": null,
   "id": "6269e955",
   "metadata": {},
   "outputs": [],
   "source": [
    "dataset_phy = dataset_moana.drop_vars([\"palette\"])\n",
    "dataset_veg = dataset_land.drop_vars(\n",
    "    [\"palette\", \"ndvi\", \"evi\", \"ndwi\", \"ndii\", \"cci\", \"ndsi\", \"pri\"]\n",
    ")"
   ]
  },
  {
   "cell_type": "markdown",
   "id": "8b9fb3b6",
   "metadata": {},
   "source": [
    "### Average"
   ]
  },
  {
   "cell_type": "markdown",
   "id": "839af86c",
   "metadata": {},
   "source": [
    "Let's calculate the average of our datasets so that we have the equivalent monthly data for both (since we have one month of data)."
   ]
  },
  {
   "cell_type": "code",
   "execution_count": null,
   "id": "7d65eb2b",
   "metadata": {},
   "outputs": [],
   "source": [
    "dataset_phy = dataset_phy.mean(\"date\")\n",
    "dataset_veg = dataset_veg.mean(\"date\")"
   ]
  },
  {
   "cell_type": "markdown",
   "id": "db4aba93",
   "metadata": {},
   "source": [
    "[back to top](#Contents)"
   ]
  },
  {
   "cell_type": "markdown",
   "id": "70c03202",
   "metadata": {},
   "source": [
    "## 5. Plot data from a transect"
   ]
  },
  {
   "cell_type": "markdown",
   "id": "21cede60",
   "metadata": {},
   "source": [
    "We can have a quick look at the values for a \"transect\" at a selected longitude using `sel` and `method='nearest'`"
   ]
  },
  {
   "cell_type": "code",
   "execution_count": null,
   "id": "ed562167",
   "metadata": {},
   "outputs": [],
   "source": [
    "lon_val = -30\n",
    "transect = dataset_phy.sel(lon=lon_val, method=\"nearest\")"
   ]
  },
  {
   "cell_type": "markdown",
   "id": "61f040ce",
   "metadata": {},
   "source": [
    "Making a quick plot with latitudes on the y axis."
   ]
  },
  {
   "cell_type": "code",
   "execution_count": null,
   "id": "aa952fd4",
   "metadata": {},
   "outputs": [],
   "source": [
    "plot = transect[\"syncoccus_moana\"].plot(y=\"lat\")"
   ]
  },
  {
   "cell_type": "markdown",
   "id": "97d666b4",
   "metadata": {},
   "source": [
    "We can see there are some values missing, we can interpolate the data if we want to, but it is entirely optional."
   ]
  },
  {
   "cell_type": "markdown",
   "id": "57a88c89",
   "metadata": {},
   "source": [
    "[back to top](#Contents)"
   ]
  },
  {
   "cell_type": "markdown",
   "id": "aba3780a",
   "metadata": {},
   "source": [
    "## 6. Interpolate the data\n",
    "\n",
    "### MOANA (Optional)\n",
    "\n",
    "Here we offer the option of interpolating the data. This can be useful for filling gaps in the dataset, which can make visualizations smoother. Consider how it affects your statistics before using."
   ]
  },
  {
   "cell_type": "code",
   "execution_count": null,
   "id": "c6cee553",
   "metadata": {},
   "outputs": [],
   "source": [
    "plot = dataset_phy[\"syncoccus_moana\"].plot.imshow(robust=\"true\")"
   ]
  },
  {
   "cell_type": "markdown",
   "id": "8deac975",
   "metadata": {},
   "source": [
    "The `margin` parameter is the number of pixels on the X and Y axes to be considered in the calculation."
   ]
  },
  {
   "cell_type": "code",
   "execution_count": null,
   "id": "09a01c89",
   "metadata": {},
   "outputs": [],
   "source": [
    "margin = 1"
   ]
  },
  {
   "cell_type": "markdown",
   "id": "426bf950",
   "metadata": {},
   "source": [
    "We need to first create a grid."
   ]
  },
  {
   "cell_type": "code",
   "execution_count": null,
   "id": "6fb484b4",
   "metadata": {},
   "outputs": [],
   "source": [
    "grid_pro = pyinterp.backends.xarray.Grid2D(dataset_phy[\"prococcus_moana\"])\n",
    "grid_syn = pyinterp.backends.xarray.Grid2D(dataset_phy[\"syncoccus_moana\"])\n",
    "grid_pic = pyinterp.backends.xarray.Grid2D(dataset_phy[\"picoeuk_moana\"])"
   ]
  },
  {
   "cell_type": "markdown",
   "id": "a98bc856",
   "metadata": {},
   "source": [
    "Then interpolate the gridded data and transpose it back into its shape."
   ]
  },
  {
   "cell_type": "code",
   "execution_count": null,
   "id": "4c39b64d",
   "metadata": {},
   "outputs": [],
   "source": [
    "pro = pyinterp.fill.loess(grid_pro, nx=margin, ny=margin)\n",
    "syn = pyinterp.fill.loess(grid_syn, nx=margin, ny=margin)\n",
    "pic = pyinterp.fill.loess(grid_pic, nx=margin, ny=margin)\n",
    "\n",
    "dataset_phy[\"prococcus_moana\"][...] = pro.transpose()\n",
    "dataset_phy[\"syncoccus_moana\"][...] = syn.transpose()\n",
    "dataset_phy[\"picoeuk_moana\"][...] = pic.transpose()"
   ]
  },
  {
   "cell_type": "markdown",
   "id": "34296d33",
   "metadata": {},
   "source": [
    "If we have a look at the transect again, we can see that some of the values have been filled in by the interpolation."
   ]
  },
  {
   "cell_type": "code",
   "execution_count": null,
   "id": "0b92a643",
   "metadata": {},
   "outputs": [],
   "source": [
    "plot = dataset_phy[\"syncoccus_moana\"].plot.imshow(robust=\"true\")"
   ]
  },
  {
   "cell_type": "markdown",
   "id": "48f0029b",
   "metadata": {},
   "source": [
    "### Interpolation Land (Optional)"
   ]
  },
  {
   "cell_type": "markdown",
   "id": "32512ecc",
   "metadata": {},
   "source": [
    "We separated the land and MOANA interpolations to allow you to choose different interpolations for each."
   ]
  },
  {
   "cell_type": "code",
   "execution_count": null,
   "id": "dfdbb513",
   "metadata": {},
   "outputs": [],
   "source": [
    "margin_v = 1"
   ]
  },
  {
   "cell_type": "code",
   "execution_count": null,
   "id": "e1399409",
   "metadata": {},
   "outputs": [],
   "source": [
    "grid_cire = pyinterp.backends.xarray.Grid2D(dataset_veg[\"cire\"])\n",
    "grid_car = pyinterp.backends.xarray.Grid2D(dataset_veg[\"car\"])\n",
    "grid_mari = pyinterp.backends.xarray.Grid2D(dataset_veg[\"mari\"])\n",
    "\n",
    "cir = pyinterp.fill.loess(grid_cire, nx=margin_v, ny=margin_v)\n",
    "car = pyinterp.fill.loess(grid_car, nx=margin_v, ny=margin_v)\n",
    "mar = pyinterp.fill.loess(grid_mari, nx=margin_v, ny=margin_v)\n",
    "\n",
    "dataset_veg[\"cire\"][...] = cir.transpose()\n",
    "dataset_veg[\"car\"][...] = car.transpose()\n",
    "dataset_veg[\"mari\"][...] = mar.transpose()"
   ]
  },
  {
   "cell_type": "markdown",
   "id": "ce6a9f2e",
   "metadata": {},
   "source": [
    "### Normalize data"
   ]
  },
  {
   "cell_type": "markdown",
   "id": "5303b08d",
   "metadata": {},
   "source": [
    "We normalize in order to visualize and compare multiple variables together."
   ]
  },
  {
   "cell_type": "code",
   "execution_count": null,
   "id": "0dd9d382",
   "metadata": {},
   "outputs": [],
   "source": [
    "dataset_norm = dataset_phy.astype(np.float64)\n",
    "dataset_norm = (\n",
    "    (dataset_phy - dataset_phy.min())\n",
    "    / (dataset_phy.max() - dataset_phy.min())\n",
    ")"
   ]
  },
  {
   "cell_type": "code",
   "execution_count": null,
   "id": "b0844d2d",
   "metadata": {},
   "outputs": [],
   "source": [
    "dataset_v_norm = dataset_veg.astype(np.float64)\n",
    "dataset_v_norm = (\n",
    "    (dataset_veg - dataset_veg.min())\n",
    "    / (dataset_veg.max() - dataset_veg.min())\n",
    ")"
   ]
  },
  {
   "cell_type": "code",
   "execution_count": null,
   "id": "c8051647",
   "metadata": {},
   "outputs": [],
   "source": [
    "data_norm = dataset_norm.to_dataarray()\n",
    "data_norm_v = dataset_v_norm.to_dataarray()"
   ]
  },
  {
   "cell_type": "markdown",
   "id": "0a29ded9",
   "metadata": {},
   "source": [
    "[back to top](#Contents)"
   ]
  },
  {
   "cell_type": "markdown",
   "id": "f4b6ff5b",
   "metadata": {},
   "source": [
    "## 7. Make a multi-variable RBG map with two datasets"
   ]
  },
  {
   "cell_type": "markdown",
   "id": "c4c68964",
   "metadata": {},
   "source": [
    "We will use the `plot.imshow` function to represent our variables by intensities of Red, Green, and Blue. We can use `sel` to reorder the dataset because the visualization will go in the order of Red, Green, and Blue."
   ]
  },
  {
   "cell_type": "code",
   "execution_count": null,
   "id": "33166e86",
   "metadata": {},
   "outputs": [],
   "source": [
    "data_norm = data_norm.sel(\n",
    "    variable=[\"syncoccus_moana\", \"picoeuk_moana\", \"prococcus_moana\"]\n",
    ")\n",
    "data_norm_v = data_norm_v.sel(variable=[\"car\", \"cire\", \"mari\"])"
   ]
  },
  {
   "cell_type": "markdown",
   "id": "e410e1c0",
   "metadata": {},
   "source": [
    "This is an example of how to show multiple variables from two different datasets on the same map. We can choose the color the land and ocean backgrounds using `cfeature.NaturalEarthFeature`. We also order the overlapping layers using `zorder`, the higher the number, the higher the layer is. `fig.patch.set_alpha(0.0)` is used to remove the background of the image when saving as a png."
   ]
  },
  {
   "cell_type": "code",
   "execution_count": null,
   "id": "b8fef194",
   "metadata": {},
   "outputs": [],
   "source": [
    "fig = plt.figure(figsize=(6, 6))\n",
    "ax1 = fig.add_subplot(projection=ccrs.Orthographic(-30, 0), facecolor=\"#080c17\")\n",
    "ax1.add_feature(\n",
    "    cfeature.NaturalEarthFeature(\n",
    "        \"physical\",\n",
    "        \"ocean\",\n",
    "        \"110m\",\n",
    "        edgecolor=\"face\",\n",
    "        facecolor=\"#131c36\",\n",
    "    ),\n",
    "    alpha=1,\n",
    "    zorder=1,\n",
    ")\n",
    "ax1.add_feature(\n",
    "    cfeature.NaturalEarthFeature(\n",
    "        \"physical\",\n",
    "        \"land\",\n",
    "        \"110m\",\n",
    "        edgecolor=\"face\",\n",
    "        facecolor=\"#131c36\",\n",
    "    ),\n",
    "    alpha=0.85,\n",
    "    zorder=2,\n",
    ")\n",
    "\n",
    "ax2 = data_norm.plot.imshow(\n",
    "    transform=ccrs.PlateCarree(), interpolation=\"none\", zorder=3\n",
    ")\n",
    "ax3 = data_norm_v.plot.imshow(\n",
    "    transform=ccrs.PlateCarree(), interpolation=\"none\", zorder=4\n",
    ")\n",
    "\n",
    "fig.patch.set_alpha(0.0)\n",
    "plt.show()"
   ]
  },
  {
   "cell_type": "markdown",
   "id": "33ab7298",
   "metadata": {},
   "source": [
    "We export the figure of a chosen name, format and resolution (dpi). `str(tspan)` adds the date range to the name, you can use other variables in strings in the same way."
   ]
  },
  {
   "cell_type": "raw",
   "id": "74a288aa",
   "metadata": {},
   "source": [
    "fig.savefig(\"moana_and_land_vi\" + str(tspan) + \".png\", format=\"png\", dpi=70)"
   ]
  },
  {
   "cell_type": "markdown",
   "id": "82bf53a2",
   "metadata": {},
   "source": [
    "We can create a RGB ternary legend for our map. This was shamelessly inspired by the [EDMW EarthData Workshop 2025] , check their GitHub repo for even more inspiration for PACE visualizations!\n",
    "\n",
    "[EDMW EarthData Workshop 2025]: https://github.com/nmfs-opensci/EDMW-EarthData-Workshop-2025/blob/main/tutorials/Tutorial_3_moana-erddap.ipynb"
   ]
  },
  {
   "cell_type": "code",
   "execution_count": null,
   "id": "12af3c2b",
   "metadata": {},
   "outputs": [],
   "source": [
    "size = 200\n",
    "x = np.linspace(-1, 1, size)\n",
    "y = np.linspace(-1, 1, size)\n",
    "X, Y = np.meshgrid(x, y)\n",
    "\n",
    "# Equilateral triangle with center at origin\n",
    "# Barycentric coordinates\n",
    "R = (-Y + 0.65) / 0.97\n",
    "G = (X * 0.866 + Y * 0.5 + 0.32) / 0.97\n",
    "B = (-X * 0.866 + Y * 0.5 + 0.32) / 0.97\n",
    "\n",
    "# Only show points inside triangle\n",
    "mask = (R >= 0) & (G >= 0) & (B >= 0)\n",
    "rgb = np.ones((size, size, 3))\n",
    "rgb[mask] = np.stack([R[mask], G[mask], B[mask]], axis=1)\n",
    "\n",
    "plt.figure(figsize=(2.5, 2.5))\n",
    "plt.imshow(rgb, extent=[-1, 1, -1, 1], origin=\"lower\")\n",
    "\n",
    "plt.text(0, -0.9, \"Synechococcus/\", ha=\"center\", va=\"center\", fontsize=9)\n",
    "plt.text(0, -0.75, \"car\", ha=\"center\", va=\"center\", fontsize=9)\n",
    "plt.text(-0.8, 0.9, \"Prochlorococcus/\", ha=\"center\", va=\"center\", fontsize=9)\n",
    "plt.text(-0.8, 0.75, \"mari\", ha=\"center\", va=\"center\", fontsize=9)\n",
    "plt.text(0.8, 0.9, \"Picoeukaryotes/\", ha=\"center\", va=\"center\", fontsize=9)\n",
    "plt.text(0.8, 0.75, \"cire\", ha=\"center\", va=\"center\", fontsize=9)\n",
    "\n",
    "\n",
    "plt.axis(\"off\")\n",
    "plt.tight_layout()\n",
    "plt.show()"
   ]
  },
  {
   "cell_type": "markdown",
   "id": "88cf122c",
   "metadata": {},
   "source": [
    "If we want more geographical information on our map, we can add grids, coastlines and coordinates. `extent` allows us to choose the coordinates that limit our map. `fig.add_subplot(projection=ccrs.PlateCarree()` indicates the projection, `PlateCarree` in this case. We need to indicate this projection when adding grid lines."
   ]
  },
  {
   "cell_type": "code",
   "execution_count": null,
   "id": "29dfa4c1",
   "metadata": {},
   "outputs": [],
   "source": [
    "fig = plt.figure(figsize=(5, 5))\n",
    "extent = [-84, -30, 10, 60]\n",
    "ax1 = fig.add_subplot(projection=ccrs.PlateCarree(), facecolor=\"#080c17\")\n",
    "ax1.gridlines(\n",
    "    crs=ccrs.PlateCarree(),\n",
    "    draw_labels=True,\n",
    "    linewidth=0.5,\n",
    "    color=\"gray\",\n",
    "    alpha=0.5,\n",
    "    linestyle=\"--\",\n",
    "    zorder=4,\n",
    ")\n",
    "ax1.coastlines(linewidth=0.4, color=\"black\", zorder=3)\n",
    "\n",
    "ax1.add_feature(\n",
    "    cfeature.NaturalEarthFeature(\n",
    "        \"physical\",\n",
    "        \"ocean\",\n",
    "        \"110m\",\n",
    "        edgecolor=\"face\",\n",
    "        facecolor=\"black\",\n",
    "    ),\n",
    "    alpha=1,\n",
    "    zorder=0,\n",
    ")\n",
    "# ax1.add_feature(cfeature.NaturalEarthFeature('physical', 'land', '110m', edgecolor='face', facecolor='#131c36'), alpha=0.85, zorder=5)\n",
    "ax1.set_extent(extent, crs=ccrs.PlateCarree())\n",
    "\n",
    "ax2 = data_norm.plot.imshow(\n",
    "    transform=ccrs.PlateCarree(), interpolation=\"none\", zorder=1.5\n",
    ")\n",
    "ax3 = data_norm_v.plot.imshow(\n",
    "    transform=ccrs.PlateCarree(), interpolation=\"none\", zorder=1\n",
    ")\n",
    "\n",
    "plt.show()"
   ]
  },
  {
   "cell_type": "markdown",
   "id": "564e4999",
   "metadata": {},
   "source": [
    "[back to top](#Contents)"
   ]
  },
  {
   "cell_type": "markdown",
   "id": "38c2a81d",
   "metadata": {},
   "source": [
    "## 8. Plot a timeline of the plankton types for a region of interest"
   ]
  },
  {
   "cell_type": "markdown",
   "id": "507cc519",
   "metadata": {},
   "source": [
    "We are going to use what we just learned to create a timeline for a chosen area. First, we will get data for a whole year."
   ]
  },
  {
   "cell_type": "markdown",
   "id": "c920410b",
   "metadata": {},
   "source": [
    "### Get data"
   ]
  },
  {
   "cell_type": "code",
   "execution_count": null,
   "id": "ce719cba",
   "metadata": {},
   "outputs": [],
   "source": [
    "tspan = (\"2024-04-01\", \"2025-03-31\")"
   ]
  },
  {
   "cell_type": "code",
   "execution_count": null,
   "id": "e944b61e",
   "metadata": {},
   "outputs": [],
   "source": [
    "results_moana = earthaccess.search_data(\n",
    "    short_name=\"PACE_OCI_L3M_MOANA\",\n",
    "    granule_name=\"*.Day.*0p1deg*\",  # Daily: Day | Resolution: 0p1deg or 4 (for 4km)\n",
    "    temporal=tspan,\n",
    ")"
   ]
  },
  {
   "cell_type": "markdown",
   "id": "514d4787",
   "metadata": {},
   "source": [
    "Since we want to draw a timeline, we will get the date information from the dataset's attribute with the new function we are creating: `time_from_attr`."
   ]
  },
  {
   "cell_type": "code",
   "execution_count": null,
   "id": "182f702f",
   "metadata": {},
   "outputs": [],
   "source": [
    "def time_from_attr(ds):\n",
    "    \"\"\"Set the time attribute as a dataset variable\n",
    "    Args:\n",
    "        ds: a dataset corresponding to one or multiple Level-2 granules\n",
    "    Returns:\n",
    "        the dataset with a scalar \"time\" coordinate\n",
    "    \"\"\"\n",
    "    datetime = ds.attrs[\"time_coverage_start\"].replace(\"Z\", \"\")\n",
    "    ds[\"date\"] = ((), np.datetime64(datetime, \"ns\"))\n",
    "    ds = ds.set_coords(\"date\")\n",
    "    return ds"
   ]
  },
  {
   "cell_type": "code",
   "execution_count": null,
   "id": "e73ce646",
   "metadata": {},
   "outputs": [],
   "source": [
    "path_files = earthaccess.open(results_moana)"
   ]
  },
  {
   "cell_type": "markdown",
   "id": "db336a83",
   "metadata": {},
   "source": [
    "We use `time_from_attr` in the `preprocess` parameter of `xr.open_mfdataset`. We then can see the date coordinate added to the dataset."
   ]
  },
  {
   "cell_type": "code",
   "execution_count": null,
   "id": "e3439ae5",
   "metadata": {},
   "outputs": [],
   "source": [
    "dataset_moana = xr.open_mfdataset(\n",
    "    path_files, preprocess=time_from_attr, combine=\"nested\", concat_dim=\"date\"\n",
    ")\n",
    "dataset_moana"
   ]
  },
  {
   "cell_type": "markdown",
   "id": "c0ac023f",
   "metadata": {},
   "source": [
    "### Clean up data"
   ]
  },
  {
   "cell_type": "markdown",
   "id": "c33108c2",
   "metadata": {},
   "source": [
    "We then clean up our dataset using the built-in `valid_min` and `valid_max` values and remove the palette variable that we will not be using."
   ]
  },
  {
   "cell_type": "code",
   "execution_count": null,
   "id": "19d5c680",
   "metadata": {},
   "outputs": [],
   "source": [
    "dataset_moana[\"prococcus_moana\"] = dataset_moana[\"prococcus_moana\"].clip(\n",
    "    min=dataset_moana[\"prococcus_moana\"].attrs[\"valid_min\"],\n",
    "    max=dataset_moana[\"prococcus_moana\"].attrs[\"valid_max\"],\n",
    ")\n",
    "dataset_moana[\"syncoccus_moana\"] = dataset_moana[\"syncoccus_moana\"].clip(\n",
    "    min=dataset_moana[\"syncoccus_moana\"].attrs[\"valid_min\"],\n",
    "    max=dataset_moana[\"syncoccus_moana\"].attrs[\"valid_max\"],\n",
    ")\n",
    "dataset_moana[\"picoeuk_moana\"] = dataset_moana[\"picoeuk_moana\"].clip(\n",
    "    min=dataset_moana[\"picoeuk_moana\"].attrs[\"valid_min\"],\n",
    "    max=dataset_moana[\"picoeuk_moana\"].attrs[\"valid_max\"],\n",
    ")"
   ]
  },
  {
   "cell_type": "code",
   "execution_count": null,
   "id": "3aad8bcc",
   "metadata": {},
   "outputs": [],
   "source": [
    "dataset_phy = dataset_moana.drop_vars([\"palette\"])"
   ]
  },
  {
   "cell_type": "markdown",
   "id": "f6c33af1",
   "metadata": {},
   "source": [
    "Let's average, normalize and reorder our dataset as seen in the previous example."
   ]
  },
  {
   "cell_type": "code",
   "execution_count": null,
   "id": "326eb144",
   "metadata": {},
   "outputs": [],
   "source": [
    "dataset_phy_mean = dataset_phy.mean(\"date\")\n",
    "dataset_phy_mean = dataset_phy_mean.astype(np.float64)\n",
    "dataset_norm = (\n",
    "    (dataset_phy_mean - dataset_phy_mean.min())\n",
    "    / (dataset_phy_mean.max() - dataset_phy_mean.min())\n",
    ")\n",
    "data_norm = dataset_norm.to_dataarray()\n",
    "data_norm = data_norm.sel(\n",
    "    variable=[\"syncoccus_moana\", \"picoeuk_moana\", \"prococcus_moana\"]\n",
    ")"
   ]
  },
  {
   "cell_type": "markdown",
   "id": "ab98ff83",
   "metadata": {},
   "source": [
    "### Select and visualize our region of interest"
   ]
  },
  {
   "cell_type": "markdown",
   "id": "9921465b",
   "metadata": {},
   "source": [
    "For this exercise, we want to select an area of interest that we will analyze with our timeline. Note that MOANA only works in the Atlantic Ocean for the moment. \n",
    "\n",
    "Use signs appropriately: \n",
    "\n",
    "North latitude is positive, South latitude is negative. \n",
    "East longitude is positive, West longitude is negative."
   ]
  },
  {
   "cell_type": "code",
   "execution_count": null,
   "id": "eb22c17f",
   "metadata": {},
   "outputs": [],
   "source": [
    "west_lon = -15\n",
    "south_lat = 50\n",
    "east_lon = -12\n",
    "north_lat = 53"
   ]
  },
  {
   "cell_type": "markdown",
   "id": "98c2038e",
   "metadata": {},
   "source": [
    "Here is an entirely optional check for your coordinates."
   ]
  },
  {
   "cell_type": "code",
   "execution_count": null,
   "id": "d69dd358",
   "metadata": {},
   "outputs": [],
   "source": [
    "if south_lat > north_lat:\n",
    "    south_lat, north_lat = north_lat, south_lat\n",
    "    print(\"Warning: South latitude was north of north latitude. Values swapped.\")\n",
    "\n",
    "if west_lon > east_lon:\n",
    "    if abs(west_lon - east_lon) > 180:\n",
    "        print(\"Box appears to cross the antimeridian (180/-180 line).\")\n",
    "    else:\n",
    "        west_lon, east_lon = east_lon, west_lon\n",
    "        print(\"Warning: West longitude was east of east longitude. Values swapped.\")\n",
    "\n",
    "lat_ascending = dataset_phy[\"lat\"][1] > dataset_phy[\"lat\"][0]\n",
    "lon_ascending = dataset_phy.lon[1] > dataset_phy.lon[0]\n",
    "\n",
    "if lat_ascending:\n",
    "    lat_min = south_lat\n",
    "    lat_max = north_lat\n",
    "else:\n",
    "    lat_min = north_lat\n",
    "    lat_max = south_lat\n",
    "\n",
    "if lon_ascending:\n",
    "    lon_min = west_lon\n",
    "    lon_max = east_lon\n",
    "else:\n",
    "    lon_min = east_lon\n",
    "    lon_max = west_lon"
   ]
  },
  {
   "cell_type": "markdown",
   "id": "e6de8584",
   "metadata": {},
   "source": [
    "Then we plot a rectangle around our area of interest on our RGB map. We can try to choose an area that is at the edge of a population to see the changes in time."
   ]
  },
  {
   "cell_type": "code",
   "execution_count": null,
   "id": "3e1337d2",
   "metadata": {},
   "outputs": [],
   "source": [
    "fig = plt.figure(figsize=(7, 7))\n",
    "ax1 = fig.add_subplot(projection=ccrs.PlateCarree(), facecolor=\"#080c17\")\n",
    "ax2 = data_norm.plot.imshow(\n",
    "    transform=ccrs.PlateCarree(), interpolation=\"none\", zorder=3\n",
    ")\n",
    "\n",
    "# Add bounding box\n",
    "ax1.add_patch(\n",
    "    Rectangle(\n",
    "        (lon_min, lat_min),\n",
    "        lon_max - lon_min,\n",
    "        lat_max - lat_min,\n",
    "        edgecolor=\"red\",\n",
    "        facecolor=\"none\",\n",
    "        linewidth=1.5,\n",
    "        transform=ccrs.PlateCarree(),\n",
    "        zorder=4,\n",
    "    )\n",
    ")\n",
    "plt.show()"
   ]
  },
  {
   "cell_type": "markdown",
   "id": "3d13e204",
   "metadata": {},
   "source": [
    "We then select the data within our area of interest."
   ]
  },
  {
   "cell_type": "code",
   "execution_count": null,
   "id": "398fb191",
   "metadata": {},
   "outputs": [],
   "source": [
    "tl = dataset_phy.sel(lat=slice(lat_min, lat_max), lon=slice(lon_min, lon_max))\n",
    "tl"
   ]
  },
  {
   "cell_type": "markdown",
   "id": "b4e7c9c7",
   "metadata": {},
   "source": [
    "### Plot the timelines with spatial averages and standard deviations"
   ]
  },
  {
   "cell_type": "markdown",
   "id": "8726f6e4",
   "metadata": {},
   "source": [
    "We want to run some statistics within our area. Here we are looking at the average and standard deviation for each group."
   ]
  },
  {
   "cell_type": "code",
   "execution_count": null,
   "id": "91fd164d",
   "metadata": {},
   "outputs": [],
   "source": [
    "region_mean = tl.mean(dim=[\"lat\", \"lon\"])\n",
    "region_std = tl.std(dim=[\"lat\", \"lon\"])"
   ]
  },
  {
   "cell_type": "code",
   "execution_count": null,
   "id": "f314e7f7",
   "metadata": {},
   "outputs": [],
   "source": [
    "region_mean.load()\n",
    "region_std.load()"
   ]
  },
  {
   "cell_type": "markdown",
   "id": "042a5ed2",
   "metadata": {},
   "source": [
    "We can now plot our timeline. We are going to plot the standard deviations as a shaded area around our mean with `fill_between`. We are using `seaborn` as `sns` to get their built-in plot styling options. It can be good to define some style elements, like `markersize`, ahead to avoid repeating them, but they can be changed for any individual dataset if needed. \n",
    "\n",
    "In this case, we also are drawing a second y axis with `twinx` for prochlorococcus, which has much higher concentrations than synechococcus and picoeukaryotes."
   ]
  },
  {
   "cell_type": "code",
   "execution_count": null,
   "id": "75665a3e",
   "metadata": {},
   "outputs": [],
   "source": [
    "fig, ax1 = plt.subplots(figsize=(10, 5))\n",
    "\n",
    "# Style\n",
    "linewidth = 1\n",
    "markersize = 2\n",
    "marker = \"o\"\n",
    "sns.set_style(\"white\")\n",
    "palette = sns.color_palette(\"husl\", 3)\n",
    "\n",
    "# Left y-axis plots\n",
    "ax1.plot(\n",
    "    region_mean[\"syncoccus_moana\"].date,\n",
    "    region_mean[\"syncoccus_moana\"],\n",
    "    color=palette[0],\n",
    "    marker=marker,\n",
    "    label=\"Syn\",\n",
    "    linewidth=linewidth,\n",
    "    markersize=markersize,\n",
    ")\n",
    "ax1.fill_between(\n",
    "    region_mean[\"syncoccus_moana\"].date,\n",
    "    region_mean[\"syncoccus_moana\"] - region_std[\"syncoccus_moana\"],\n",
    "    region_mean[\"syncoccus_moana\"] + region_std[\"syncoccus_moana\"],\n",
    "    color=palette[0],\n",
    "    alpha=0.2,\n",
    ")\n",
    "\n",
    "ax1.plot(\n",
    "    region_mean[\"picoeuk_moana\"].date,\n",
    "    region_mean[\"picoeuk_moana\"],\n",
    "    color=palette[1],\n",
    "    marker=marker,\n",
    "    label=\"Pico\",\n",
    "    linewidth=linewidth,\n",
    "    markersize=markersize,\n",
    ")\n",
    "ax1.fill_between(\n",
    "    region_mean[\"picoeuk_moana\"].date,\n",
    "    region_mean[\"picoeuk_moana\"] - region_std[\"picoeuk_moana\"],\n",
    "    region_mean[\"picoeuk_moana\"] + region_std[\"picoeuk_moana\"],\n",
    "    color=palette[1],\n",
    "    alpha=0.2,\n",
    ")\n",
    "\n",
    "# Right y-axis plot\n",
    "ax2 = ax1.twinx()\n",
    "ax2.plot(\n",
    "    region_mean[\"prococcus_moana\"].date,\n",
    "    region_mean[\"prococcus_moana\"],\n",
    "    color=palette[2],\n",
    "    marker=marker,\n",
    "    linestyle=\"--\",\n",
    "    label=\"Pro\",\n",
    "    linewidth=linewidth,\n",
    "    markersize=markersize,\n",
    ")\n",
    "ax2.fill_between(\n",
    "    region_mean[\"prococcus_moana\"].date,\n",
    "    region_mean[\"prococcus_moana\"] - region_std[\"prococcus_moana\"],\n",
    "    region_mean[\"prococcus_moana\"] + region_std[\"prococcus_moana\"],\n",
    "    color=palette[2],\n",
    "    alpha=0.2,\n",
    ")\n",
    "\n",
    "ax1.legend(loc=\"upper left\")\n",
    "ax2.legend(loc=\"upper right\")\n",
    "\n",
    "ax1.set_ylabel(\"Synechococcus and Picoeukaryotes (cells/ml)\")\n",
    "ax2.set_ylabel(\"Prochlorococcus (cells/ml)\")\n",
    "ax1.set_xlabel(\"Date\")\n",
    "\n",
    "plt.title(\"MOANA Phytoplankton Timeline\")\n",
    "plt.tight_layout()\n",
    "plt.show()"
   ]
  },
  {
   "cell_type": "markdown",
   "id": "7eccb6bd",
   "metadata": {},
   "source": [
    "### Plot monthly averages"
   ]
  },
  {
   "cell_type": "markdown",
   "id": "80513346",
   "metadata": {},
   "source": [
    "Now this looks a little noisy with the daily data, so let's make monthly means within our region with `groupby.mean`."
   ]
  },
  {
   "cell_type": "code",
   "execution_count": null,
   "id": "24e59895",
   "metadata": {},
   "outputs": [],
   "source": [
    "monthly_means = region_mean.groupby(\"date.month\").mean()\n",
    "monthly_stds = region_std.groupby(\"date.month\").mean()"
   ]
  },
  {
   "cell_type": "code",
   "execution_count": null,
   "id": "c402aebd",
   "metadata": {},
   "outputs": [],
   "source": [
    "monthly_stds.load()\n",
    "monthly_means.load()"
   ]
  },
  {
   "cell_type": "markdown",
   "id": "96393b32",
   "metadata": {},
   "source": [
    "We can now plot our monthly averages. Note that we will manually indicate the month names here."
   ]
  },
  {
   "cell_type": "code",
   "execution_count": null,
   "id": "c7fac095",
   "metadata": {},
   "outputs": [],
   "source": [
    "fig, ax1 = plt.subplots(figsize=(10, 5))\n",
    "\n",
    "# Style\n",
    "linewidth = 1\n",
    "markersize = 5\n",
    "sns.set_style(\"white\")\n",
    "palette = sns.color_palette(\"husl\", 3)\n",
    "\n",
    "months = monthly_means[\"month\"].values\n",
    "month_names = [\n",
    "    \"Apr\",\n",
    "    \"May\",\n",
    "    \"Jun\",\n",
    "    \"Jul\",\n",
    "    \"Aug\",\n",
    "    \"Sep\",\n",
    "    \"Oct\",\n",
    "    \"Nov\",\n",
    "    \"Dec\",\n",
    "    \"Jan\",\n",
    "    \"Feb\",\n",
    "    \"Mar\",\n",
    "]  # Manually change if different range\n",
    "\n",
    "# Left axis\n",
    "ax1.plot(\n",
    "    months,\n",
    "    monthly_means[\"syncoccus_moana\"].values,\n",
    "    \"o-\",\n",
    "    color=palette[0],\n",
    "    label=\"Synechococcus\",\n",
    "    linewidth=linewidth,\n",
    "    markersize=markersize,\n",
    ")\n",
    "ax1.fill_between(\n",
    "    months,\n",
    "    monthly_means[\"syncoccus_moana\"] - monthly_stds[\"syncoccus_moana\"],\n",
    "    monthly_means[\"syncoccus_moana\"] + monthly_stds[\"syncoccus_moana\"],\n",
    "    color=palette[0],\n",
    "    alpha=0.2,\n",
    ")\n",
    "\n",
    "ax1.plot(\n",
    "    months,\n",
    "    monthly_means[\"picoeuk_moana\"].values,\n",
    "    \"s-\",\n",
    "    color=palette[1],\n",
    "    label=\"Picoeukaryotes\",\n",
    "    linewidth=linewidth,\n",
    "    markersize=markersize,\n",
    ")\n",
    "ax1.fill_between(\n",
    "    months,\n",
    "    monthly_means[\"picoeuk_moana\"] - monthly_stds[\"picoeuk_moana\"],\n",
    "    monthly_means[\"picoeuk_moana\"] + monthly_stds[\"picoeuk_moana\"],\n",
    "    color=palette[1],\n",
    "    alpha=0.2,\n",
    ")\n",
    "\n",
    "# Second y-axis\n",
    "ax2 = ax1.twinx()\n",
    "ax2.plot(\n",
    "    months,\n",
    "    monthly_means[\"prococcus_moana\"].values,\n",
    "    \"^--\",\n",
    "    color=palette[2],\n",
    "    label=\"Prochlorococcus\",\n",
    "    linewidth=linewidth,\n",
    "    markersize=markersize,\n",
    ")\n",
    "ax2.fill_between(\n",
    "    months,\n",
    "    monthly_means[\"prococcus_moana\"] - monthly_stds[\"prococcus_moana\"],\n",
    "    monthly_means[\"prococcus_moana\"] + monthly_stds[\"prococcus_moana\"],\n",
    "    color=palette[2],\n",
    "    alpha=0.2,\n",
    ")\n",
    "\n",
    "# Add labels, titles and improve x-axis\n",
    "ax1.set_xlabel(\"Month\", fontsize=12)\n",
    "ax1.set_ylabel(\"Synechococcus and Picoeucaryotes (cells/ml)\", fontsize=12)\n",
    "ax2.set_ylabel(\"Prochlorococcus (cells/ml)\", fontsize=12)\n",
    "ax1.set_xticks(range(1, 13))  # manually change if different months on x axis\n",
    "ax1.set_xticklabels(month_names)\n",
    "\n",
    "ax1.legend(loc=\"upper left\", frameon=True, framealpha=0.6)\n",
    "ax2.legend(loc=\"upper right\", frameon=True, framealpha=0.6)\n",
    "\n",
    "plt.title(f\"Monthly Averages for Region:\", fontsize=14)\n",
    "fig.text(\n",
    "    0.5,\n",
    "    0.01,\n",
    "    \"Shaded areas represent spatial standard deviation\",\n",
    "    ha=\"center\",\n",
    "    fontsize=10,\n",
    "    style=\"italic\",\n",
    ")\n",
    "\n",
    "plt.setp(ax1.get_xticklabels(), rotation=45, ha=\"right\")\n",
    "\n",
    "plt.tight_layout(rect=[0, 0.03, 1, 0.97])  # Adjust layout to make room for the note\n",
    "plt.show()"
   ]
  },
  {
   "cell_type": "markdown",
   "id": "98c04de9",
   "metadata": {},
   "source": [
    "[back to top](#Contents)\n",
    "\n",
    "<div class=\"alert alert-info\" role=\"alert\">\n",
    "    \n",
    "You have completed the notebook on PACE data visualization!\n",
    "\n",
    "</div>"
   ]
  }
 ],
 "metadata": {
  "language_info": {
   "name": "python"
  }
 },
 "nbformat": 4,
 "nbformat_minor": 5
}
